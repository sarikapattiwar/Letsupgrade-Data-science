{
  "nbformat": 4,
  "nbformat_minor": 0,
  "metadata": {
    "colab": {
      "name": "Day-3",
      "provenance": [],
      "collapsed_sections": [],
      "authorship_tag": "ABX9TyMFMCDCCSs4LBSoECoEH5HQ",
      "include_colab_link": true
    },
    "kernelspec": {
      "name": "python3",
      "display_name": "Python 3"
    }
  },
  "cells": [
    {
      "cell_type": "markdown",
      "metadata": {
        "id": "view-in-github",
        "colab_type": "text"
      },
      "source": [
        "<a href=\"https://colab.research.google.com/github/sarikapattiwar/Letsupgrade-Data-science/blob/main/Day_3.ipynb\" target=\"_parent\"><img src=\"https://colab.research.google.com/assets/colab-badge.svg\" alt=\"Open In Colab\"/></a>"
      ]
    },
    {
      "cell_type": "code",
      "metadata": {
        "id": "4MXa03QlWhd6",
        "outputId": "e69724ff-8cd8-46e9-87d6-00756417f05b",
        "colab": {
          "base_uri": "https://localhost:8080/"
        }
      },
      "source": [
        "#Q1\n",
        "import numpy as np \n",
        "print(np.arange(2, 50, 3))"
      ],
      "execution_count": null,
      "outputs": [
        {
          "output_type": "stream",
          "text": [
            "[ 2  5  8 11 14 17 20 23 26 29 32 35 38 41 44 47]\n"
          ],
          "name": "stdout"
        }
      ]
    },
    {
      "cell_type": "code",
      "metadata": {
        "id": "pJ3mOT-AXA4t",
        "outputId": "2561a130-2ae7-46bf-b1d1-071bc987d465",
        "colab": {
          "base_uri": "https://localhost:8080/"
        }
      },
      "source": [
        "#Q2\n",
        "import numpy as np\n",
        "lst1 = [] \n",
        "lst2=[]  \n",
        "n = 5\n",
        "for i in range(0, n): \n",
        "    ele = int(input()) \n",
        "    lst1.append(ele) \n",
        "print(\"List1 : \",lst1)\n",
        "\n",
        "for j in range(0, n): \n",
        "    ele2 = int(input())   \n",
        "    lst2.append(ele2) \n",
        "print(\"List2 : \",lst2)\n",
        "\n",
        "\n",
        "import numpy \n",
        "\n",
        "arr = numpy.array(lst1)\n",
        "\n",
        "print (\"List1: \", lst1)\n",
        "\n",
        "print (\"Array: \", arr)\n",
        "\n",
        "Array = numpy.array(lst2)\n",
        "\n",
        "print (\"List1: \", lst2)\n",
        "\n",
        "print (\"Array: \", Array)\n",
        "arr=np.array(lst1)\n",
        "Array=np.array(lst2)\n",
        "print(\"Concatenated array\")\n",
        "print(np.concatenate((arr, Array), axis=None))\n",
        "\n",
        "print(\"Sorted array of lst1\")\n",
        "lst1.sort()\n",
        "print(lst1)\n",
        "print(\"Sorted array of lst2\")\n",
        "lst2.sort()\n",
        "print(lst2)"
      ],
      "execution_count": null,
      "outputs": [
        {
          "output_type": "stream",
          "text": [
            "34\n",
            "56\n",
            "21\n",
            "44\n",
            "78\n",
            "List1 :  [34, 56, 21, 44, 78]\n",
            "32\n",
            "12\n",
            "9\n",
            "22\n",
            "4\n",
            "List2 :  [32, 12, 9, 22, 4]\n",
            "List1:  [34, 56, 21, 44, 78]\n",
            "Array:  [34 56 21 44 78]\n",
            "List1:  [32, 12, 9, 22, 4]\n",
            "Array:  [32 12  9 22  4]\n",
            "Concatenated array\n",
            "[34 56 21 44 78 32 12  9 22  4]\n",
            "Sorted array of lst1\n",
            "[21, 34, 44, 56, 78]\n",
            "Sorted array of lst2\n",
            "[4, 9, 12, 22, 32]\n"
          ],
          "name": "stdout"
        }
      ]
    },
    {
      "cell_type": "code",
      "metadata": {
        "id": "qxTWrc3iXHxj",
        "outputId": "ee511036-4fc4-4cef-a065-a78e6051912b",
        "colab": {
          "base_uri": "https://localhost:8080/"
        }
      },
      "source": [
        "#Q3\n",
        "import numpy as np\n",
        "arr = np.array( [[ 1, 2, 3],\n",
        "                 [ 4, 2, 5]] )\n",
        "print(\"No. of dimensions: \", arr.ndim)\n",
        "print(\"Size of array: \", arr.size)"
      ],
      "execution_count": null,
      "outputs": [
        {
          "output_type": "stream",
          "text": [
            "No. of dimensions:  2\n",
            "Size of array:  6\n"
          ],
          "name": "stdout"
        }
      ]
    },
    {
      "cell_type": "code",
      "metadata": {
        "id": "fV3OabxXX9vc",
        "outputId": "402353ba-16fd-4d42-9960-8f52ad5e6db1",
        "colab": {
          "base_uri": "https://localhost:8080/"
        }
      },
      "source": [
        "#Q4\n",
        ">>> a = np.array([1, 2, 3, 4, 5, 6])\n",
        ">>> a.shape\n",
        "(6,)\n",
        ">>> a2 = a[np.newaxis, :]\n",
        ">>> a2.shape\n",
        "(1, 6)\n",
        "print(a)\n",
        ">>> a = np.array([1, 2, 3, 4, 5, 6])\n",
        ">>> a.shape\n",
        "(6,)\n",
        ">>> b = np.expand_dims(a, axis=1)\n",
        ">>> b.shape\n",
        "(6, 1)\n",
        "print(b)"
      ],
      "execution_count": null,
      "outputs": [
        {
          "output_type": "stream",
          "text": [
            "[1 2 3 4 5 6]\n",
            "[[1]\n",
            " [2]\n",
            " [3]\n",
            " [4]\n",
            " [5]\n",
            " [6]]\n"
          ],
          "name": "stdout"
        }
      ]
    },
    {
      "cell_type": "code",
      "metadata": {
        "id": "Rt3aqhpRYBYx",
        "outputId": "54096aa5-63a8-48d9-de06-37bea87477aa",
        "colab": {
          "base_uri": "https://localhost:8080/"
        }
      },
      "source": [
        "#Q5\n",
        "import numpy as np \n",
        "  \n",
        "a = np.array([[1, 2], \n",
        "              [3, 4]]) \n",
        "  \n",
        "b = np.array([[5, 6], \n",
        "              [7, 8]]) \n",
        "  \n",
        "# vertical stacking \n",
        "print(\"Vertical stacking:\\n\", np.vstack((a, b))) \n",
        "  \n",
        "# horizontal stacking \n",
        "print(\"\\nHorizontal stacking:\\n\", np.hstack((a, b)))"
      ],
      "execution_count": null,
      "outputs": [
        {
          "output_type": "stream",
          "text": [
            "Vertical stacking:\n",
            " [[1 2]\n",
            " [3 4]\n",
            " [5 6]\n",
            " [7 8]]\n",
            "\n",
            "Horizontal stacking:\n",
            " [[1 2 5 6]\n",
            " [3 4 7 8]]\n"
          ],
          "name": "stdout"
        }
      ]
    },
    {
      "cell_type": "code",
      "metadata": {
        "id": "fs7fRO_rYEP6",
        "outputId": "5ca9d6d4-1a07-4903-9294-50bc2f2c56fa",
        "colab": {
          "base_uri": "https://localhost:8080/"
        }
      },
      "source": [
        "#Q6\n",
        "input_list = [1, 2, 2, 5, 8, 4, 4, 8] \n",
        "l1 = []  \n",
        "count = 0 \n",
        "for item in input_list: \n",
        "    if item not in l1: \n",
        "        count += 1\n",
        "        l1.append(item)\n",
        "print(\"No of unique items are:\", count)\n",
        "\n",
        "def unique(input_list): \n",
        "    list_set = set(input_list) \n",
        "    unique_list = list(list_set) \n",
        "    for x in unique_list: \n",
        "        print (x)\n",
        "print(\"Unique items are:\")\n",
        "unique(input_list)"
      ],
      "execution_count": null,
      "outputs": [
        {
          "output_type": "stream",
          "text": [
            "No of unique items are: 5\n",
            "Unique items are:\n",
            "1\n",
            "2\n",
            "4\n",
            "5\n",
            "8\n"
          ],
          "name": "stdout"
        }
      ]
    }
  ]
}