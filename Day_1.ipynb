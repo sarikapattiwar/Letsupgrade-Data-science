{
  "nbformat": 4,
  "nbformat_minor": 0,
  "metadata": {
    "colab": {
      "name": "Day 1",
      "provenance": [],
      "collapsed_sections": [],
      "authorship_tag": "ABX9TyOZG4q+cKdgc3dwmsT7AdYG",
      "include_colab_link": true
    },
    "kernelspec": {
      "name": "python3",
      "display_name": "Python 3"
    }
  },
  "cells": [
    {
      "cell_type": "markdown",
      "metadata": {
        "id": "view-in-github",
        "colab_type": "text"
      },
      "source": [
        "<a href=\"https://colab.research.google.com/github/sarikapattiwar/Letsupgrade-Data-science/blob/main/Day_1.ipynb\" target=\"_parent\"><img src=\"https://colab.research.google.com/assets/colab-badge.svg\" alt=\"Open In Colab\"/></a>"
      ]
    },
    {
      "cell_type": "code",
      "metadata": {
        "id": "bFLbUFKoQdrS"
      },
      "source": [
        "#Q1\n",
        "B)RAINBOW"
      ],
      "execution_count": null,
      "outputs": []
    },
    {
      "cell_type": "code",
      "metadata": {
        "id": "hVWByuH-RIz-",
        "outputId": "60196993-2045-4c58-d1ee-2a340f237bdc",
        "colab": {
          "base_uri": "https://localhost:8080/"
        }
      },
      "source": [
        "#Q2\n",
        "a=\"LETSUPGRADE\"\n",
        "print(a)"
      ],
      "execution_count": null,
      "outputs": [
        {
          "output_type": "stream",
          "text": [
            "LETSUPGRADE\n"
          ],
          "name": "stdout"
        }
      ]
    },
    {
      "cell_type": "code",
      "metadata": {
        "id": "W9rI43QVRLSy",
        "outputId": "e05dc183-4d1e-4a84-e94d-b92b3c4b3e44",
        "colab": {
          "base_uri": "https://localhost:8080/"
        }
      },
      "source": [
        "#Q3\n",
        "CP=float(input())\n",
        "SP=float(input())\n",
        "if SP-CP>0:\n",
        "  print(\"Profit\")\n",
        "elif SP-CP<0:\n",
        "  print(\"Loss\")\n",
        "else:\n",
        "  print(\"Neither\")"
      ],
      "execution_count": null,
      "outputs": [
        {
          "output_type": "stream",
          "text": [
            "269\n",
            "167\n",
            "Loss\n"
          ],
          "name": "stdout"
        }
      ]
    },
    {
      "cell_type": "code",
      "metadata": {
        "id": "bFqSi0HVRO-S",
        "outputId": "03b8e0c6-3489-4918-8ffe-de61d2b35a0b",
        "colab": {
          "base_uri": "https://localhost:8080/"
        }
      },
      "source": [
        "#Q4\n",
        "Amt_in_euro=input()\n",
        "Amt_in_Rupees=int(Amt_in_euro)*80\n",
        "print(Amt_in_Rupees)"
      ],
      "execution_count": null,
      "outputs": [
        {
          "output_type": "stream",
          "text": [
            "40\n",
            "3200\n"
          ],
          "name": "stdout"
        }
      ]
    }
  ]
}