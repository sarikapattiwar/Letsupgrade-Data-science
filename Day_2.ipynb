{
  "nbformat": 4,
  "nbformat_minor": 0,
  "metadata": {
    "colab": {
      "name": "Day 2",
      "provenance": [],
      "collapsed_sections": [],
      "authorship_tag": "ABX9TyM+Fs9qHmqtK7H1sm3uRnLX",
      "include_colab_link": true
    },
    "kernelspec": {
      "name": "python3",
      "display_name": "Python 3"
    }
  },
  "cells": [
    {
      "cell_type": "markdown",
      "metadata": {
        "id": "view-in-github",
        "colab_type": "text"
      },
      "source": [
        "<a href=\"https://colab.research.google.com/github/sarikapattiwar/Letsupgrade-Data-science/blob/main/Day_2.ipynb\" target=\"_parent\"><img src=\"https://colab.research.google.com/assets/colab-badge.svg\" alt=\"Open In Colab\"/></a>"
      ]
    },
    {
      "cell_type": "code",
      "metadata": {
        "id": "XX5g2hbKRWsr"
      },
      "source": [
        "#Q1\n",
        "list = []\n",
        "for i in range(10):\n",
        "\tnumber = int(input())\n",
        "\tif number%2==0:\n",
        "\t\tlist.append(number)\n",
        "print(list)"
      ],
      "execution_count": null,
      "outputs": []
    },
    {
      "cell_type": "code",
      "metadata": {
        "id": "Nj-X-B9QRomP"
      },
      "source": [
        "\n",
        "#Q2\n",
        "\"List comprehensions are a way of achieving Pythonic one-liners with iterables(lists)\"\n",
        "#Example1\n",
        "input_list = [1, 2, 3, 4, 4, 5, 6, 7, 7] \n",
        "  \n",
        "output_list = [] \n",
        "  \n",
        "# Using loop for constructing output list \n",
        "for var in input_list: \n",
        "    if var % 2 == 0: \n",
        "        output_list.append(var) \n",
        "  \n",
        "print(\"Output List using for loop:\", output_list)\n",
        "#Using list comprehension\n",
        "input_list = [1, 2, 3, 4, 4, 5, 6, 7, 7] \n",
        "  \n",
        "  \n",
        "list_using_comp = [var for var in input_list if var % 2 == 0] \n",
        "  \n",
        "print(\"Output List using list comprehensions:\", list_using_comp)\n",
        "\n",
        "\n",
        "#Example2\n",
        "#Using for loop\n",
        "output_list = [] \n",
        "for var in range(1, 10): \n",
        "    output_list.append(var ** 2) \n",
        "      \n",
        "print(\"Output List using for loop:\", output_list)\n",
        "#Using list comprehension\n",
        "list_using_comp = [var**2 for var in range(1, 10)] \n",
        "  \n",
        "print(\"Output List using list comprehension:\",list_using_comp)"
      ],
      "execution_count": null,
      "outputs": []
    },
    {
      "cell_type": "code",
      "metadata": {
        "id": "VbcCUrn3Rs9K"
      },
      "source": [
        "#Q3\n",
        "num=int(input())\n",
        "d=dict()\n",
        "for x in range(1,num+1):\n",
        "    d[x]=x**2\n",
        "print(d)"
      ],
      "execution_count": null,
      "outputs": []
    },
    {
      "cell_type": "code",
      "metadata": {
        "id": "C2aejcb4RwZm",
        "outputId": "c45f2104-9dde-4829-9d54-e5349d2160f7",
        "colab": {
          "base_uri": "https://localhost:8080/"
        }
      },
      "source": [
        "#Q4\n",
        "x=0\n",
        "y=0\n",
        "n = int(input())\n",
        "\n",
        "for i in range(n):\n",
        "    direction = input().split(' ')  \n",
        "    \n",
        "    if direction[0].upper() == \"UP\":\n",
        "        y += int(direction[1])\n",
        "    elif direction[0].upper() == \"RIGHT\":\n",
        "        x += int(direction[1])\n",
        "    elif direction[0].upper() == \"DOWN\":\n",
        "        y -= int(direction[1])\n",
        "    elif direction[0].upper() == \"LEFT\":\n",
        "        x -= int(direction[1])\n",
        "    else:\n",
        "        print(\"Invalid Input\")    \n",
        "pos = float((x**2+y**2)**0.5)\n",
        "print(round(pos))"
      ],
      "execution_count": null,
      "outputs": [
        {
          "output_type": "stream",
          "text": [
            "4\n",
            "UP 5\n",
            "RIGHT 3\n",
            "LEFT 3\n",
            "DOWN 2\n",
            "3\n"
          ],
          "name": "stdout"
        }
      ]
    }
  ]
}